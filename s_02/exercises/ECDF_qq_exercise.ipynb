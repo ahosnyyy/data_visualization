{
  "cells": [
    {
      "cell_type": "markdown",
      "metadata": {
        "id": "5sV2GoXU3rgz"
      },
      "source": [
        "# Exercise 1: ECDF\n",
        "Question: Plot the ECDF for the ages of passengers in the Titanic dataset."
      ]
    },
    {
      "cell_type": "code",
      "execution_count": 1,
      "metadata": {
        "id": "1ueSmoRF0_qm"
      },
      "outputs": [],
      "source": [
        "import numpy as np\n",
        "import pandas as pd\n",
        "import matplotlib.pyplot as plt\n",
        "import scipy.stats as stats\n",
        "\n",
        "# Load the Titanic dataset\n",
        "titanic = pd.read_csv('https://raw.githubusercontent.com/mwaskom/seaborn-data/master/titanic.csv')"
      ]
    },
    {
      "cell_type": "code",
      "execution_count": null,
      "metadata": {
        "colab": {
          "base_uri": "https://localhost:8080/",
          "height": 564
        },
        "id": "h-TEGZ887rrp",
        "outputId": "bcdcb362-1f1e-40b2-d784-a31ab2c822d3"
      },
      "outputs": [],
      "source": [
        "\n"
      ]
    },
    {
      "cell_type": "markdown",
      "metadata": {
        "id": "h3LE9qjM9Yaz"
      },
      "source": [
        "# Exercise 2: Q-Q\n",
        "Question: Plot the Q-Q plot for the ages of passengers in the Titanic dataset."
      ]
    },
    {
      "cell_type": "code",
      "execution_count": null,
      "metadata": {
        "colab": {
          "base_uri": "https://localhost:8080/",
          "height": 564
        },
        "id": "a1f5vbAM7sau",
        "outputId": "7d63d3d8-b0d2-46f4-83bd-d3743b64a990"
      },
      "outputs": [],
      "source": []
    }
  ],
  "metadata": {
    "colab": {
      "provenance": []
    },
    "kernelspec": {
      "display_name": "Python 3",
      "name": "python3"
    },
    "language_info": {
      "codemirror_mode": {
        "name": "ipython",
        "version": 3
      },
      "file_extension": ".py",
      "mimetype": "text/x-python",
      "name": "python",
      "nbconvert_exporter": "python",
      "pygments_lexer": "ipython3",
      "version": "3.10.14"
    }
  },
  "nbformat": 4,
  "nbformat_minor": 0
}
