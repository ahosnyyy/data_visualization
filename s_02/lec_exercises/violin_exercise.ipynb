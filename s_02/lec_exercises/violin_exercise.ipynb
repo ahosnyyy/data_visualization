{
  "cells": [
    {
      "cell_type": "markdown",
      "metadata": {
        "id": "5sV2GoXU3rgz"
      },
      "source": [
        "# Exercise: Violin Plot Analysis of Titanic Data with plt.violinplot\n",
        "Objective: Create violin plots to analyze the distribution of ages and fares of passengers in the Titanic dataset, comparing distributions across different passenger classes."
      ]
    },
    {
      "cell_type": "code",
      "execution_count": 1,
      "metadata": {
        "id": "1ueSmoRF0_qm"
      },
      "outputs": [],
      "source": [
        "import matplotlib.pyplot as plt\n",
        "import pandas as pd\n",
        "import numpy as np\n",
        "\n",
        "# Load the Titanic dataset\n",
        "titanic = pd.read_csv('https://raw.githubusercontent.com/mwaskom/seaborn-data/master/titanic.csv')"
      ]
    },
    {
      "cell_type": "code",
      "execution_count": null,
      "metadata": {
        "colab": {
          "base_uri": "https://localhost:8080/",
          "height": 607
        },
        "id": "h-TEGZ887rrp",
        "outputId": "ff80aba4-bf10-48f8-b955-5777868231ae"
      },
      "outputs": [],
      "source": []
    }
  ],
  "metadata": {
    "colab": {
      "provenance": []
    },
    "kernelspec": {
      "display_name": "Python 3",
      "name": "python3"
    },
    "language_info": {
      "codemirror_mode": {
        "name": "ipython",
        "version": 3
      },
      "file_extension": ".py",
      "mimetype": "text/x-python",
      "name": "python",
      "nbconvert_exporter": "python",
      "pygments_lexer": "ipython3",
      "version": "3.10.14"
    }
  },
  "nbformat": 4,
  "nbformat_minor": 0
}
