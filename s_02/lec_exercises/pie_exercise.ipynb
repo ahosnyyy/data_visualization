{
  "cells": [
    {
      "cell_type": "markdown",
      "metadata": {
        "id": "5sV2GoXU3rgz"
      },
      "source": [
        "# Exercise: Creating and Customizing a Pie Chart with Titanic Data\n",
        "Objective: Visualize the distribution of passenger classes in the Titanic dataset using a pie chart."
      ]
    },
    {
      "cell_type": "code",
      "execution_count": 1,
      "metadata": {
        "id": "1ueSmoRF0_qm"
      },
      "outputs": [],
      "source": [
        "import matplotlib.pyplot as plt\n",
        "import pandas as pd\n",
        "\n",
        "# Load the Titanic dataset\n",
        "titanic = pd.read_csv('https://raw.githubusercontent.com/mwaskom/seaborn-data/master/titanic.csv')"
      ]
    },
    {
      "cell_type": "code",
      "execution_count": null,
      "metadata": {
        "colab": {
          "base_uri": "https://localhost:8080/",
          "height": 675
        },
        "id": "h-TEGZ887rrp",
        "outputId": "4a3fb5b0-880e-403b-b513-4131f7763711"
      },
      "outputs": [],
      "source": [
        "\n"
      ]
    }
  ],
  "metadata": {
    "colab": {
      "provenance": []
    },
    "kernelspec": {
      "display_name": "Python 3",
      "name": "python3"
    },
    "language_info": {
      "codemirror_mode": {
        "name": "ipython",
        "version": 3
      },
      "file_extension": ".py",
      "mimetype": "text/x-python",
      "name": "python",
      "nbconvert_exporter": "python",
      "pygments_lexer": "ipython3",
      "version": "3.10.14"
    }
  },
  "nbformat": 4,
  "nbformat_minor": 0
}
