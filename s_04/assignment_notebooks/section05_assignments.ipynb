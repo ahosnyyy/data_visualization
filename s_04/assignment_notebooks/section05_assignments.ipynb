{
 "cells": [
  {
   "cell_type": "markdown",
   "id": "efe7a355",
   "metadata": {},
   "source": [
    "## Assignment 1: HTML & Markdown\n",
    "\n",
    "Create a webpage mimicking the layout of the page in results preview. Don't worry about perfection, the main goal is to get practice with the basic html and markdown components we covered. \n",
    "\n",
    "* I've provided the style for the outer Div. The main focus here is the components rather than style.\n",
    "\n",
    "* If you wish, look up your own style arguments to further modify the page.\n",
    "\n",
    "* The style argument for the second Markdown list should be: `style={\"color\":\"limegreen\"}`.\n",
    "\n",
    "* To make Line Breaks, use html.Br() in between other html components."
   ]
  },
  {
   "cell_type": "code",
   "execution_count": 6,
   "id": "4aa5df9d",
   "metadata": {
    "scrolled": true
   },
   "outputs": [
    {
     "data": {
      "text/html": [
       "\n",
       "        <iframe\n",
       "            width=\"100%\"\n",
       "            height=\"650\"\n",
       "            src=\"http://127.0.0.1:8649/\"\n",
       "            frameborder=\"0\"\n",
       "            allowfullscreen\n",
       "            \n",
       "        ></iframe>\n",
       "        "
      ],
      "text/plain": [
       "<IPython.lib.display.IFrame at 0x7f9c916fda00>"
      ]
     },
     "metadata": {},
     "output_type": "display_data"
    }
   ],
   "source": [
    "app = JupyterDash(__name__)\n",
    "\n",
    "app.layout = html.Div(\n",
    "    style={\n",
    "        \"font-family\":\"Arial\", \n",
    "        \"backgroundColor\": \"black\", \n",
    "        \"color\": \"lightGrey\",\n",
    "    },\n",
    ")\n",
    "\n",
    "\n",
    "app.run_server(debug=True, mode=\"inline\", port=8649)"
   ]
  },
  {
   "cell_type": "markdown",
   "id": "8a70af2d",
   "metadata": {},
   "source": [
    "## Assignment 2: App Styling\n",
    "\n",
    "Take some time to style the map application we build at the end of Section 3. I've pasted my code below.\n",
    "\n",
    "* Style the background, font color and font family of the application. I've made mine `darkblue`, `lightgrey`, and `arial`, but feel free to apply your own styles. \n",
    "* Modify the font sizes of the slider and check list components.\n",
    "* Feel free to make any other tweaks to your application! To modify the area outside of the maps (mine is `lightblue`), we modify the `geo_bgcolor` attribute."
   ]
  },
  {
   "cell_type": "code",
   "execution_count": null,
   "id": "120c212d",
   "metadata": {},
   "outputs": [],
   "source": [
    "from dash import dcc, html\n",
    "from jupyter_dash import JupyterDash\n",
    "\n",
    "from dash.dependencies import Output, Input\n",
    "from dash.exceptions import PreventUpdate\n",
    "\n",
    "import plotly.express as px\n",
    "import pandas as pd\n",
    "\n",
    "ski_resorts = pd.read_csv(\"../data/European_Ski_Resorts.csv\").drop(\"Unnamed: 0\", axis=1)\n",
    "\n",
    "app = JupyterDash(__name__)\n",
    "\n",
    "app.layout = html.Div([\n",
    "    html.H2(id=\"title\"),\n",
    "    html.P(\"Select Options Below:\"),\n",
    "    dcc.Slider(\n",
    "        id=\"Elevation Slider\",\n",
    "        min=0,\n",
    "        max=4000,\n",
    "        step=500,\n",
    "        value=500,\n",
    "    ),\n",
    "    dcc.Checklist(\n",
    "        id=\"Feature Checklist\",\n",
    "        options=[\"Has Snow Park\", \"Has Night Ski\"], \n",
    "        value=[\"Has Snow Park\", \"Has Night Ski\"], \n",
    "    ),\n",
    "    dcc.Graph(id=\"graph\")\n",
    "])\n",
    "\n",
    "\n",
    "@app.callback(\n",
    "    Output('title', 'children'),\n",
    "    Output('graph', 'figure'),\n",
    "    Input(\"Elevation Slider\", \"value\"),\n",
    "    Input(\"Feature Checklist\", \"value\"),\n",
    ")\n",
    "\n",
    "def plot_lift_number(elevation, features):\n",
    "\n",
    "    ski_resorts_filtered = ski_resorts.query(\"HighestPoint > @elevation\")\n",
    "    \n",
    "    title = f\"Ski Resorts with Elevation Over {elevation}M Max Elevation\"\n",
    "    \n",
    "    if features == []:\n",
    "        df = (ski_resorts_filtered\n",
    "              .groupby(\"Country\", as_index=False)\n",
    "              .agg(ResortCount= (\"Country\", \"count\"))\n",
    "             )\n",
    "    elif len(features)==2:\n",
    "        df = (ski_resorts_filtered\n",
    "              .query(\"Snowparks == 'Yes' and NightSki == 'Yes'\")\n",
    "              .groupby(\"Country\", as_index=False)\n",
    "              .agg(ResortCount= (\"Country\", \"count\"))\n",
    "             )\n",
    "    elif features == [\"Has Snow Park\"]:\n",
    "        df = (ski_resorts_filtered\n",
    "              .query(\"Snowparks == 'Yes'\")\n",
    "              .groupby(\"Country\", as_index=False)\n",
    "              .agg(ResortCount= (\"Country\", \"count\"))\n",
    "             )\n",
    "    else:\n",
    "        df = (ski_resorts_filtered\n",
    "              .query(\"NightSki == 'Yes'\")\n",
    "              .groupby(\"Country\", as_index=False)\n",
    "              .agg(ResortCount= (\"Country\", \"count\"))\n",
    "             )\n",
    "    fig = px.choropleth(\n",
    "        df,\n",
    "        locations=\"Country\",\n",
    "        color=\"ResortCount\",\n",
    "        locationmode=\"country names\",\n",
    "        scope=\"europe\"\n",
    "    ).update_geos(fitbounds=\"locations\").update_layout(\n",
    "        margin={\"r\":0,\"t\":0,\"l\":0,\"b\":0}, \n",
    "        coloraxis_colorbar_x=.85,\n",
    "#         width=1000,\n",
    "#         height=600\n",
    "    )\n",
    "\n",
    "    return title, fig \n",
    "    \n",
    "if __name__ == \"__main__\":\n",
    "    app.run_server(port=2038)"
   ]
  },
  {
   "cell_type": "markdown",
   "id": "74573f84",
   "metadata": {},
   "source": [
    "## Assignment 3: Dashboard Layouts\n",
    "\n",
    "Modify the layout of the application from Assignment 2.\n",
    "\n",
    "You are really free to do as you wish, but make sure to try: \n",
    "* Applying a dbc theme of your choice to all components.\n",
    "* Using a grid based layout to organize your application.\n",
    "* Feel free to make any other tweaks to your application! We will get more practice in the project, but feel free to try adding a tab based structure here even if the second tab is empty."
   ]
  },
  {
   "cell_type": "code",
   "execution_count": null,
   "id": "ee056983",
   "metadata": {},
   "outputs": [],
   "source": []
  }
 ],
 "metadata": {
  "kernelspec": {
   "display_name": "Python 3 (ipykernel)",
   "language": "python",
   "name": "python3"
  },
  "language_info": {
   "codemirror_mode": {
    "name": "ipython",
    "version": 3
   },
   "file_extension": ".py",
   "mimetype": "text/x-python",
   "name": "python",
   "nbconvert_exporter": "python",
   "pygments_lexer": "ipython3",
   "version": "3.9.13"
  }
 },
 "nbformat": 4,
 "nbformat_minor": 5
}
