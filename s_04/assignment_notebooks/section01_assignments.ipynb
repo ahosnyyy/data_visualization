{
 "cells": [
  {
   "cell_type": "markdown",
   "id": "e00a9b36",
   "metadata": {},
   "source": [
    "## Assignment 1: Simple Dash App\n",
    "\n",
    "Create a dash application with the following front-end components\n",
    "\n",
    "* A text title \"Select a State to Analyze:\"\n",
    "* A Dropdown Menu that Contains the Options 'California', 'Oregon', and 'Washington'\n",
    "* Text \"State Selected: X\" where X is the state selected in the Dropdown Menu\n",
    "\n",
    "You will need to build a callback function that takes the selected state and returns output text based on the value selected in the dropdown menu. I suggest using JupyterDash to start, but you are welcome and encouraged to play with the Dash function once you have developed your application succesfully. "
   ]
  },
  {
   "cell_type": "code",
   "execution_count": null,
   "id": "ae13057c",
   "metadata": {},
   "outputs": [],
   "source": []
  },
  {
   "cell_type": "markdown",
   "id": "0b376e4e",
   "metadata": {},
   "source": [
    "## Assignment 2: Embedding A Chart\n",
    "\n",
    "Take the shell application we created in assignment 1 and embed the prototype plotly visual below. If the user selects 'WASHINGTON', a line chart for Washington expenditure should be plotted, and so on for each of the three states. Remove the dynamic text ouput."
   ]
  },
  {
   "cell_type": "code",
   "execution_count": null,
   "id": "5ada2298",
   "metadata": {},
   "outputs": [],
   "source": [
    "import pandas as pd\n",
    "import plotly.express as px\n",
    "\n",
    "education = pd.read_csv(\"../data/states_all.csv\", usecols=[\"STATE\", \"YEAR\", \"TOTAL_EXPENDITURE\"])\n",
    "\n",
    "df = education.query(\"STATE == 'WASHINGTON' & YEAR > 1992\")\n",
    "\n",
    "px.line(df, x=\"YEAR\", y=\"TOTAL_EXPENDITURE\", title=\"Expenditure in Washington\")"
   ]
  },
  {
   "cell_type": "code",
   "execution_count": null,
   "id": "688f7242",
   "metadata": {},
   "outputs": [],
   "source": []
  },
  {
   "cell_type": "code",
   "execution_count": null,
   "id": "45147b07",
   "metadata": {},
   "outputs": [],
   "source": []
  }
 ],
 "metadata": {
  "kernelspec": {
   "display_name": "Python 3 (ipykernel)",
   "language": "python",
   "name": "python3"
  },
  "language_info": {
   "codemirror_mode": {
    "name": "ipython",
    "version": 3
   },
   "file_extension": ".py",
   "mimetype": "text/x-python",
   "name": "python",
   "nbconvert_exporter": "python",
   "pygments_lexer": "ipython3",
   "version": "3.9.13"
  }
 },
 "nbformat": 4,
 "nbformat_minor": 5
}
