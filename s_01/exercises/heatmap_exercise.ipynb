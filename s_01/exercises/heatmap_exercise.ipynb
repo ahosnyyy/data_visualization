{
  "cells": [
    {
      "cell_type": "markdown",
      "metadata": {
        "id": "EFP7b0p5gqrM"
      },
      "source": [
        "# Exercise 1: Heatmap of Survival Status by Passenger Class and Gender\n",
        "Question: Create a heatmap showing the count of survivors and non-survivors across different passenger classes (Pclass) and genders (sex).\n",
        "\n",
        "HINT: Use pandas `pivot_table`"
      ]
    },
    {
      "cell_type": "code",
      "execution_count": 1,
      "metadata": {
        "colab": {
          "base_uri": "https://localhost:8080/",
          "height": 564
        },
        "id": "N9GcKk3Ee2Nc",
        "outputId": "b88f0cee-2899-4a1b-ab32-6129310655a8"
      },
      "outputs": [],
      "source": [
        "import matplotlib.pyplot as plt\n",
        "import pandas as pd\n",
        "import numpy as np\n",
        "\n",
        "# Load the Titanic dataset\n",
        "titanic = pd.read_csv('https://raw.githubusercontent.com/mwaskom/seaborn-data/master/titanic.csv')\n"
      ]
    },
    {
      "cell_type": "code",
      "execution_count": null,
      "metadata": {},
      "outputs": [],
      "source": []
    },
    {
      "cell_type": "markdown",
      "metadata": {
        "id": "UX36L-STky94"
      },
      "source": [
        "# Exercise 2: Heatmap of Average Fare by Embarked Location and Passenger Class\n",
        "Question: Create a heatmap showing the average fare paid by passengers based on their embarkation location and passenger class."
      ]
    },
    {
      "cell_type": "code",
      "execution_count": null,
      "metadata": {
        "colab": {
          "base_uri": "https://localhost:8080/",
          "height": 564
        },
        "id": "MiKqqdmrlijs",
        "outputId": "bd8bf0d8-6273-42ee-8ff0-3e3cde80b381"
      },
      "outputs": [],
      "source": []
    }
  ],
  "metadata": {
    "colab": {
      "provenance": []
    },
    "kernelspec": {
      "display_name": "Python 3",
      "name": "python3"
    },
    "language_info": {
      "codemirror_mode": {
        "name": "ipython",
        "version": 3
      },
      "file_extension": ".py",
      "mimetype": "text/x-python",
      "name": "python",
      "nbconvert_exporter": "python",
      "pygments_lexer": "ipython3",
      "version": "3.10.14"
    }
  },
  "nbformat": 4,
  "nbformat_minor": 0
}
