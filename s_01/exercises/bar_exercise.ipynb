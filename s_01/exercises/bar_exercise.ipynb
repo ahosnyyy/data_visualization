{
  "cells": [
    {
      "cell_type": "markdown",
      "metadata": {
        "id": "EFP7b0p5gqrM"
      },
      "source": [
        "# Exercise 1: Grouped Bar Plot\n",
        "Question: Create a grouped bar plot to compare the number of passengers by class and gender in the Titanic dataset."
      ]
    },
    {
      "cell_type": "code",
      "execution_count": 1,
      "metadata": {
        "colab": {
          "base_uri": "https://localhost:8080/",
          "height": 564
        },
        "id": "N9GcKk3Ee2Nc",
        "outputId": "432a3a83-b80b-4955-a4f7-b1bb6aba839d"
      },
      "outputs": [],
      "source": [
        "import matplotlib.pyplot as plt\n",
        "import numpy as np\n",
        "import pandas as pd\n",
        "\n",
        "# Load the Titanic dataset\n",
        "titanic = pd.read_csv('https://raw.githubusercontent.com/mwaskom/seaborn-data/master/titanic.csv')"
      ]
    },
    {
      "cell_type": "code",
      "execution_count": null,
      "metadata": {},
      "outputs": [],
      "source": []
    },
    {
      "cell_type": "markdown",
      "metadata": {
        "id": "eJRpfcKZhIGY"
      },
      "source": [
        "# Exercise 2: Horizontal Bar Plot\n",
        "Question: Create a horizontal bar plot to display the number of passengers by class in the Titanic dataset."
      ]
    },
    {
      "cell_type": "code",
      "execution_count": null,
      "metadata": {
        "colab": {
          "base_uri": "https://localhost:8080/",
          "height": 564
        },
        "id": "uQpflquae6Um",
        "outputId": "6442230c-6aef-43d3-f436-dcaa05720b91"
      },
      "outputs": [],
      "source": [
        "\n"
      ]
    },
    {
      "cell_type": "markdown",
      "metadata": {
        "id": "_uyAJSUbhOa5"
      },
      "source": [
        "# Exercise 3: Stacked Bar Plot\n",
        "Question: Create a stacked bar plot to show the number of survivors and non-survivors by class."
      ]
    },
    {
      "cell_type": "code",
      "execution_count": null,
      "metadata": {
        "colab": {
          "base_uri": "https://localhost:8080/",
          "height": 564
        },
        "id": "QgCfMZQHfYpz",
        "outputId": "eb44b372-e5a3-4790-b794-ce7d2dbbaa56"
      },
      "outputs": [],
      "source": []
    }
  ],
  "metadata": {
    "colab": {
      "provenance": []
    },
    "kernelspec": {
      "display_name": "Python 3",
      "name": "python3"
    },
    "language_info": {
      "codemirror_mode": {
        "name": "ipython",
        "version": 3
      },
      "file_extension": ".py",
      "mimetype": "text/x-python",
      "name": "python",
      "nbconvert_exporter": "python",
      "pygments_lexer": "ipython3",
      "version": "3.10.14"
    }
  },
  "nbformat": 4,
  "nbformat_minor": 0
}
