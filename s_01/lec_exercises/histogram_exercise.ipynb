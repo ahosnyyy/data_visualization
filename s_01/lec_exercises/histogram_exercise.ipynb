{
  "cells": [
    {
      "cell_type": "markdown",
      "metadata": {
        "id": "EFP7b0p5gqrM"
      },
      "source": [
        "# Exercise 1: Histogram of Passenger Ages\n",
        "Question: Create a histogram showing the distribution of passenger ages on the Titanic. Make sure to handle missing values appropriately."
      ]
    },
    {
      "cell_type": "code",
      "execution_count": 1,
      "metadata": {
        "colab": {
          "base_uri": "https://localhost:8080/",
          "height": 487
        },
        "id": "N9GcKk3Ee2Nc",
        "outputId": "144568a7-d8a7-4c52-f298-8870901e8188"
      },
      "outputs": [],
      "source": [
        "import matplotlib.pyplot as plt\n",
        "import pandas as pd\n",
        "\n",
        "# Load the Titanic dataset\n",
        "titanic = pd.read_csv('https://raw.githubusercontent.com/mwaskom/seaborn-data/master/titanic.csv')"
      ]
    },
    {
      "cell_type": "code",
      "execution_count": null,
      "metadata": {},
      "outputs": [],
      "source": []
    },
    {
      "cell_type": "markdown",
      "metadata": {
        "id": "UX36L-STky94"
      },
      "source": [
        "# Exercise 2: Histogram of Passenger Ages by Survival Status\n",
        "Question: Create histograms to compare the distribution of passenger ages for those who survived versus those who did not survive. Use subplots to show both distributions side by side."
      ]
    },
    {
      "cell_type": "code",
      "execution_count": null,
      "metadata": {
        "colab": {
          "base_uri": "https://localhost:8080/",
          "height": 507
        },
        "id": "9iMfLwTukh8x",
        "outputId": "e79cc732-90e8-4ead-b3b9-1fa1c8ac3905"
      },
      "outputs": [],
      "source": []
    }
  ],
  "metadata": {
    "colab": {
      "provenance": []
    },
    "kernelspec": {
      "display_name": "Python 3",
      "name": "python3"
    },
    "language_info": {
      "codemirror_mode": {
        "name": "ipython",
        "version": 3
      },
      "file_extension": ".py",
      "mimetype": "text/x-python",
      "name": "python",
      "nbconvert_exporter": "python",
      "pygments_lexer": "ipython3",
      "version": "3.10.14"
    }
  },
  "nbformat": 4,
  "nbformat_minor": 0
}
